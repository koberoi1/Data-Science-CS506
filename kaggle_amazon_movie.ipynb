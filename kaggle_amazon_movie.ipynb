{
 "cells": [
  {
   "cell_type": "code",
   "execution_count": 226,
   "metadata": {},
   "outputs": [],
   "source": [
    "import numpy as np\n",
    "import pandas as pd\n",
    "import matplotlib.pyplot as plt\n",
    "import seaborn as sns\n",
    "from sklearn.feature_extraction.text import TfidfVectorizer\n",
    "from sklearn.model_selection import train_test_split\n",
    "from sklearn.decomposition import TruncatedSVD\n",
    "from sklearn.svm import LinearSVC\n",
    "from sklearn.ensemble import RandomForestClassifier, AdaBoostClassifier\n",
    "from sklearn.metrics import accuracy_score, classification_report\n",
    "from sklearn.linear_model import  LogisticRegression\n",
    "from sklearn.model_selection import GridSearchCV\n",
    "from sklearn.preprocessing import MinMaxScaler\n",
    "from sklearn.naive_bayes import MultinomialNB"
   ]
  },
  {
   "cell_type": "code",
   "execution_count": 114,
   "metadata": {},
   "outputs": [
    {
     "name": "stdout",
     "output_type": "stream",
     "text": [
      "CPU times: user 15.5 s, sys: 4.1 s, total: 19.6 s\n",
      "Wall time: 21.5 s\n"
     ]
    }
   ],
   "source": [
    "%%time\n",
    "df = pd.read_csv('train.csv')"
   ]
  },
  {
   "cell_type": "code",
   "execution_count": 115,
   "metadata": {},
   "outputs": [
    {
     "data": {
      "text/html": [
       "<div>\n",
       "<style scoped>\n",
       "    .dataframe tbody tr th:only-of-type {\n",
       "        vertical-align: middle;\n",
       "    }\n",
       "\n",
       "    .dataframe tbody tr th {\n",
       "        vertical-align: top;\n",
       "    }\n",
       "\n",
       "    .dataframe thead th {\n",
       "        text-align: right;\n",
       "    }\n",
       "</style>\n",
       "<table border=\"1\" class=\"dataframe\">\n",
       "  <thead>\n",
       "    <tr style=\"text-align: right;\">\n",
       "      <th></th>\n",
       "      <th>Id</th>\n",
       "      <th>ProductId</th>\n",
       "      <th>UserId</th>\n",
       "      <th>HelpfulnessNumerator</th>\n",
       "      <th>HelpfulnessDenominator</th>\n",
       "      <th>Score</th>\n",
       "      <th>Time</th>\n",
       "      <th>Summary</th>\n",
       "      <th>Text</th>\n",
       "    </tr>\n",
       "  </thead>\n",
       "  <tbody>\n",
       "    <tr>\n",
       "      <th>0</th>\n",
       "      <td>0</td>\n",
       "      <td>0005019281</td>\n",
       "      <td>ADZPIG9QOCDG5</td>\n",
       "      <td>0</td>\n",
       "      <td>0</td>\n",
       "      <td>4.0</td>\n",
       "      <td>1203984000</td>\n",
       "      <td>good version of a classic</td>\n",
       "      <td>This is a charming version of the classic Dick...</td>\n",
       "    </tr>\n",
       "  </tbody>\n",
       "</table>\n",
       "</div>"
      ],
      "text/plain": [
       "   Id   ProductId         UserId  HelpfulnessNumerator  \\\n",
       "0   0  0005019281  ADZPIG9QOCDG5                     0   \n",
       "\n",
       "   HelpfulnessDenominator  Score        Time                    Summary  \\\n",
       "0                       0    4.0  1203984000  good version of a classic   \n",
       "\n",
       "                                                Text  \n",
       "0  This is a charming version of the classic Dick...  "
      ]
     },
     "execution_count": 115,
     "metadata": {},
     "output_type": "execute_result"
    }
   ],
   "source": [
    "df.head(1)"
   ]
  },
  {
   "cell_type": "markdown",
   "metadata": {},
   "source": [
    "# Exploratory Data Analyses"
   ]
  },
  {
   "cell_type": "code",
   "execution_count": 116,
   "metadata": {},
   "outputs": [],
   "source": [
    "df.dropna(axis = 0, inplace= True)"
   ]
  },
  {
   "cell_type": "code",
   "execution_count": 117,
   "metadata": {},
   "outputs": [
    {
     "name": "stdout",
     "output_type": "stream",
     "text": [
      "<class 'pandas.core.frame.DataFrame'>\n",
      "Int64Index: 1397461 entries, 0 to 1697532\n",
      "Data columns (total 9 columns):\n",
      "Id                        1397461 non-null int64\n",
      "ProductId                 1397461 non-null object\n",
      "UserId                    1397461 non-null object\n",
      "HelpfulnessNumerator      1397461 non-null int64\n",
      "HelpfulnessDenominator    1397461 non-null int64\n",
      "Score                     1397461 non-null float64\n",
      "Time                      1397461 non-null int64\n",
      "Summary                   1397461 non-null object\n",
      "Text                      1397461 non-null object\n",
      "dtypes: float64(1), int64(4), object(4)\n",
      "memory usage: 106.6+ MB\n"
     ]
    }
   ],
   "source": [
    "df.info()"
   ]
  },
  {
   "cell_type": "code",
   "execution_count": 118,
   "metadata": {},
   "outputs": [
    {
     "data": {
      "text/html": [
       "<div>\n",
       "<style scoped>\n",
       "    .dataframe tbody tr th:only-of-type {\n",
       "        vertical-align: middle;\n",
       "    }\n",
       "\n",
       "    .dataframe tbody tr th {\n",
       "        vertical-align: top;\n",
       "    }\n",
       "\n",
       "    .dataframe thead th {\n",
       "        text-align: right;\n",
       "    }\n",
       "</style>\n",
       "<table border=\"1\" class=\"dataframe\">\n",
       "  <thead>\n",
       "    <tr style=\"text-align: right;\">\n",
       "      <th></th>\n",
       "      <th>Id</th>\n",
       "      <th>HelpfulnessNumerator</th>\n",
       "      <th>HelpfulnessDenominator</th>\n",
       "      <th>Score</th>\n",
       "      <th>Time</th>\n",
       "    </tr>\n",
       "  </thead>\n",
       "  <tbody>\n",
       "    <tr>\n",
       "      <th>count</th>\n",
       "      <td>1.397461e+06</td>\n",
       "      <td>1.397461e+06</td>\n",
       "      <td>1.397461e+06</td>\n",
       "      <td>1.397461e+06</td>\n",
       "      <td>1.397461e+06</td>\n",
       "    </tr>\n",
       "    <tr>\n",
       "      <th>mean</th>\n",
       "      <td>8.490070e+05</td>\n",
       "      <td>3.574046e+00</td>\n",
       "      <td>5.305333e+00</td>\n",
       "      <td>4.111471e+00</td>\n",
       "      <td>1.262467e+09</td>\n",
       "    </tr>\n",
       "    <tr>\n",
       "      <th>std</th>\n",
       "      <td>4.901949e+05</td>\n",
       "      <td>1.777227e+01</td>\n",
       "      <td>2.079026e+01</td>\n",
       "      <td>1.196803e+00</td>\n",
       "      <td>1.289471e+08</td>\n",
       "    </tr>\n",
       "    <tr>\n",
       "      <th>min</th>\n",
       "      <td>0.000000e+00</td>\n",
       "      <td>0.000000e+00</td>\n",
       "      <td>0.000000e+00</td>\n",
       "      <td>1.000000e+00</td>\n",
       "      <td>8.793792e+08</td>\n",
       "    </tr>\n",
       "    <tr>\n",
       "      <th>25%</th>\n",
       "      <td>4.246140e+05</td>\n",
       "      <td>0.000000e+00</td>\n",
       "      <td>0.000000e+00</td>\n",
       "      <td>4.000000e+00</td>\n",
       "      <td>1.164499e+09</td>\n",
       "    </tr>\n",
       "    <tr>\n",
       "      <th>50%</th>\n",
       "      <td>8.491930e+05</td>\n",
       "      <td>1.000000e+00</td>\n",
       "      <td>1.000000e+00</td>\n",
       "      <td>5.000000e+00</td>\n",
       "      <td>1.307750e+09</td>\n",
       "    </tr>\n",
       "    <tr>\n",
       "      <th>75%</th>\n",
       "      <td>1.273606e+06</td>\n",
       "      <td>3.000000e+00</td>\n",
       "      <td>5.000000e+00</td>\n",
       "      <td>5.000000e+00</td>\n",
       "      <td>1.373242e+09</td>\n",
       "    </tr>\n",
       "    <tr>\n",
       "      <th>max</th>\n",
       "      <td>1.697532e+06</td>\n",
       "      <td>6.084000e+03</td>\n",
       "      <td>6.510000e+03</td>\n",
       "      <td>5.000000e+00</td>\n",
       "      <td>1.406074e+09</td>\n",
       "    </tr>\n",
       "  </tbody>\n",
       "</table>\n",
       "</div>"
      ],
      "text/plain": [
       "                 Id  HelpfulnessNumerator  HelpfulnessDenominator  \\\n",
       "count  1.397461e+06          1.397461e+06            1.397461e+06   \n",
       "mean   8.490070e+05          3.574046e+00            5.305333e+00   \n",
       "std    4.901949e+05          1.777227e+01            2.079026e+01   \n",
       "min    0.000000e+00          0.000000e+00            0.000000e+00   \n",
       "25%    4.246140e+05          0.000000e+00            0.000000e+00   \n",
       "50%    8.491930e+05          1.000000e+00            1.000000e+00   \n",
       "75%    1.273606e+06          3.000000e+00            5.000000e+00   \n",
       "max    1.697532e+06          6.084000e+03            6.510000e+03   \n",
       "\n",
       "              Score          Time  \n",
       "count  1.397461e+06  1.397461e+06  \n",
       "mean   4.111471e+00  1.262467e+09  \n",
       "std    1.196803e+00  1.289471e+08  \n",
       "min    1.000000e+00  8.793792e+08  \n",
       "25%    4.000000e+00  1.164499e+09  \n",
       "50%    5.000000e+00  1.307750e+09  \n",
       "75%    5.000000e+00  1.373242e+09  \n",
       "max    5.000000e+00  1.406074e+09  "
      ]
     },
     "execution_count": 118,
     "metadata": {},
     "output_type": "execute_result"
    }
   ],
   "source": [
    "df.describe()"
   ]
  },
  {
   "cell_type": "code",
   "execution_count": 119,
   "metadata": {},
   "outputs": [
    {
     "data": {
      "text/plain": [
       "Id                        1397461\n",
       "ProductId                   50050\n",
       "UserId                     123958\n",
       "HelpfulnessNumerator          599\n",
       "HelpfulnessDenominator        654\n",
       "Score                           5\n",
       "Time                         5788\n",
       "Summary                   1078989\n",
       "Text                      1396636\n",
       "dtype: int64"
      ]
     },
     "execution_count": 119,
     "metadata": {},
     "output_type": "execute_result"
    }
   ],
   "source": [
    "df.nunique()"
   ]
  },
  {
   "cell_type": "code",
   "execution_count": 120,
   "metadata": {},
   "outputs": [],
   "source": [
    "#ID is the same as index so we can safely drop this column\n",
    "df.drop('Id', inplace= True, axis = 1)"
   ]
  },
  {
   "cell_type": "code",
   "execution_count": 121,
   "metadata": {},
   "outputs": [
    {
     "data": {
      "text/html": [
       "<div>\n",
       "<style scoped>\n",
       "    .dataframe tbody tr th:only-of-type {\n",
       "        vertical-align: middle;\n",
       "    }\n",
       "\n",
       "    .dataframe tbody tr th {\n",
       "        vertical-align: top;\n",
       "    }\n",
       "\n",
       "    .dataframe thead th {\n",
       "        text-align: right;\n",
       "    }\n",
       "</style>\n",
       "<table border=\"1\" class=\"dataframe\">\n",
       "  <thead>\n",
       "    <tr style=\"text-align: right;\">\n",
       "      <th></th>\n",
       "      <th>ProductId</th>\n",
       "      <th>UserId</th>\n",
       "      <th>HelpfulnessNumerator</th>\n",
       "      <th>HelpfulnessDenominator</th>\n",
       "      <th>Score</th>\n",
       "      <th>Time</th>\n",
       "      <th>Summary</th>\n",
       "      <th>Text</th>\n",
       "    </tr>\n",
       "  </thead>\n",
       "  <tbody>\n",
       "    <tr>\n",
       "      <th>0</th>\n",
       "      <td>0005019281</td>\n",
       "      <td>ADZPIG9QOCDG5</td>\n",
       "      <td>0</td>\n",
       "      <td>0</td>\n",
       "      <td>4.0</td>\n",
       "      <td>1203984000</td>\n",
       "      <td>good version of a classic</td>\n",
       "      <td>This is a charming version of the classic Dick...</td>\n",
       "    </tr>\n",
       "  </tbody>\n",
       "</table>\n",
       "</div>"
      ],
      "text/plain": [
       "    ProductId         UserId  HelpfulnessNumerator  HelpfulnessDenominator  \\\n",
       "0  0005019281  ADZPIG9QOCDG5                     0                       0   \n",
       "\n",
       "   Score        Time                    Summary  \\\n",
       "0    4.0  1203984000  good version of a classic   \n",
       "\n",
       "                                                Text  \n",
       "0  This is a charming version of the classic Dick...  "
      ]
     },
     "execution_count": 121,
     "metadata": {},
     "output_type": "execute_result"
    }
   ],
   "source": [
    "df.head(1)"
   ]
  },
  {
   "cell_type": "code",
   "execution_count": 245,
   "metadata": {},
   "outputs": [],
   "source": [
    "def feature_extraction_pipeline(df_train,df_test):\n",
    "    \n",
    "    def feature_extraction(df_train,df_test,text_feature):\n",
    "\n",
    "        #Models and Transformations\n",
    "        vectorizer = TfidfVectorizer(stop_words= 'english')\n",
    "        model_svd = TruncatedSVD(n_components= 100)\n",
    "        model_lr = LogisticRegression(solver= 'saga', multi_class= 'multinomial')\n",
    "\n",
    "        #For training\n",
    "        X = df_train[text_feature]\n",
    "        X = vectorizer.fit_transform(X)\n",
    "        \n",
    "        #Reducing dimensions with SVD\n",
    "        principalComponents = model_svd.fit_transform(X)\n",
    "        df_svd = pd.DataFrame(principalComponents)\n",
    "\n",
    "        X = df_svd.values\n",
    "        y = df_train['Score'].values.reshape(-1)\n",
    "        \n",
    "        #Training model\n",
    "        #Calculating probabilitiesfrom for Summary & Text\n",
    "        model_lr.fit(X, y)\n",
    "        predictions_probs = model_lr.predict_proba(X)\n",
    "        p_df = pd.DataFrame(predictions_probs, columns=[f'p_{text_feature}_{x}' for x in range(1,6)])\n",
    "\n",
    "        #For testing\n",
    "        X_test = df_test[text_feature]\n",
    "        X_test = vectorizer.transform(X_test)\n",
    "        principalComponents_test = model_svd.fit_transform(X_test)\n",
    "        df_svd_test = pd.DataFrame(principalComponents_test)\n",
    "\n",
    "        X_test = df_svd_test.values\n",
    "\n",
    "        #Predict Probability on test from train\n",
    "        predictions_probs_test = model_lr.predict_proba(X_test)\n",
    "\n",
    "        p_df_test = pd.DataFrame(predictions_probs_test, columns=[f'p_{text_feature}_{x}' for x in range(1,6)])\n",
    "\n",
    "        return p_df, p_df_test\n",
    "\n",
    "#     def fit_classifier(train_df):\n",
    "\n",
    "#         y = train_df['Score'].values.ravel()\n",
    "#         X = train_df.drop('Score', axis = 1)\n",
    "        \n",
    "#         clf = LogisticRegression(solver= 'saga', multi_class= 'multinomial')\n",
    "#         clf.fit(X,y)\n",
    "    \n",
    "#         return clf\n",
    "\n",
    "    train_p_s, test_p_s = feature_extraction(df_train,df_test,'Summary')\n",
    "    train_p_t, test_p_t = feature_extraction(df_train,df_test,'Text')\n",
    "    \n",
    "    print('Completed Feature Extraction')\n",
    "    \n",
    "    df_train.reset_index(drop = True, inplace = True)\n",
    "    train_df = pd.concat([df_train, train_p_s,train_p_t], axis = 1)\n",
    "    train_df = train_df.drop(['ProductId','UserId','Time' , 'Summary' , 'Text'], axis = 1)\n",
    "    \n",
    "    df_test.reset_index(drop = True, inplace = True)\n",
    "    test_df = pd.concat([df_test, test_p_s,test_p_t], axis = 1)\n",
    "    test_df = test_df.drop(['ProductId','UserId', 'Time' , 'Summary' , 'Text'], axis = 1)\n",
    "    \n",
    "    print('Completing Selecting Relevant Features')\n",
    "    \n",
    "    scaler = MinMaxScaler()\n",
    "    \n",
    "    train_df[['HelpfulnessNumerator', 'HelpfulnessDenominator']] = scaler.fit_transform(train_df[['HelpfulnessNumerator','HelpfulnessDenominator']])\n",
    "    test_df[['HelpfulnessNumerator', 'HelpfulnessDenominator']] = scaler.fit_transform(test_df[['HelpfulnessNumerator','HelpfulnessDenominator']])\n",
    "    \n",
    "    print('Completed Normalizing Features')\n",
    "    \n",
    "    #clf = fit_classifier(train_df, test_df)\n",
    "    \n",
    "    print('Completed Fitting Model')\n",
    "    \n",
    "    return train_df, test_df\n",
    "    \n",
    "  \n",
    "    "
   ]
  },
  {
   "cell_type": "code",
   "execution_count": 208,
   "metadata": {},
   "outputs": [],
   "source": [
    "sample = df.sample(frac=0.7, random_state=1)"
   ]
  },
  {
   "cell_type": "code",
   "execution_count": 209,
   "metadata": {},
   "outputs": [],
   "source": [
    "sample_test = df.sample(frac=0.3, random_state=2)"
   ]
  },
  {
   "cell_type": "code",
   "execution_count": 199,
   "metadata": {},
   "outputs": [
    {
     "name": "stdout",
     "output_type": "stream",
     "text": [
      "Completed Feature Extraction\n",
      "Completing Selecting Relevant Features\n",
      "Completed Normalizing Features\n",
      "CPU times: user 4min 33s, sys: 17 s, total: 4min 50s\n",
      "Wall time: 3min 29s\n"
     ]
    }
   ],
   "source": [
    "%%time\n",
    "train_df, test_df = feature_extraction_pipeline(sample,sample_test)"
   ]
  },
  {
   "cell_type": "code",
   "execution_count": 201,
   "metadata": {},
   "outputs": [],
   "source": [
    "X = train_df.drop('Score', axis = 1)\n",
    "y = train_df['Score']"
   ]
  },
  {
   "cell_type": "code",
   "execution_count": 202,
   "metadata": {},
   "outputs": [],
   "source": [
    "model_blah = LogisticRegression(multi_class= 'multinomial', solver= 'saga')"
   ]
  },
  {
   "cell_type": "code",
   "execution_count": 203,
   "metadata": {},
   "outputs": [
    {
     "data": {
      "text/plain": [
       "LogisticRegression(C=1.0, class_weight=None, dual=False, fit_intercept=True,\n",
       "                   intercept_scaling=1, l1_ratio=None, max_iter=100,\n",
       "                   multi_class='multinomial', n_jobs=None, penalty='l2',\n",
       "                   random_state=None, solver='saga', tol=0.0001, verbose=0,\n",
       "                   warm_start=False)"
      ]
     },
     "execution_count": 203,
     "metadata": {},
     "output_type": "execute_result"
    }
   ],
   "source": [
    "model_blah.fit(X, y)"
   ]
  },
  {
   "cell_type": "code",
   "execution_count": 204,
   "metadata": {},
   "outputs": [],
   "source": [
    "pred_blah =  model_blah.predict(test_df.drop('Score', axis = 1))"
   ]
  },
  {
   "cell_type": "code",
   "execution_count": 206,
   "metadata": {},
   "outputs": [
    {
     "data": {
      "text/plain": [
       "0.5041718546505803"
      ]
     },
     "execution_count": 206,
     "metadata": {},
     "output_type": "execute_result"
    }
   ],
   "source": [
    "accuracy_score(sample_test['Score'], pred_blah)"
   ]
  },
  {
   "cell_type": "code",
   "execution_count": 212,
   "metadata": {},
   "outputs": [
    {
     "name": "stdout",
     "output_type": "stream",
     "text": [
      "Completed Feature Extraction\n",
      "Completing Selecting Relevant Features\n",
      "Completed Normalizing Features\n",
      "Completed Fitting Model\n",
      "CPU times: user 11min 2s, sys: 59.2 s, total: 12min 1s\n",
      "Wall time: 9min 44s\n"
     ]
    }
   ],
   "source": [
    "%%time\n",
    "train_df, test_df = feature_extraction_pipeline(sample,sample_test)"
   ]
  },
  {
   "cell_type": "code",
   "execution_count": null,
   "metadata": {},
   "outputs": [],
   "source": [
    "%%time\n",
    "pred_blah_2 =  model_blah.predict(test_df.drop('Score', axis = 1))"
   ]
  },
  {
   "cell_type": "code",
   "execution_count": 213,
   "metadata": {},
   "outputs": [
    {
     "data": {
      "text/plain": [
       "(978223, 13)"
      ]
     },
     "execution_count": 213,
     "metadata": {},
     "output_type": "execute_result"
    }
   ],
   "source": [
    "train_df.shape"
   ]
  },
  {
   "cell_type": "code",
   "execution_count": 217,
   "metadata": {},
   "outputs": [
    {
     "data": {
      "text/html": [
       "<div>\n",
       "<style scoped>\n",
       "    .dataframe tbody tr th:only-of-type {\n",
       "        vertical-align: middle;\n",
       "    }\n",
       "\n",
       "    .dataframe tbody tr th {\n",
       "        vertical-align: top;\n",
       "    }\n",
       "\n",
       "    .dataframe thead th {\n",
       "        text-align: right;\n",
       "    }\n",
       "</style>\n",
       "<table border=\"1\" class=\"dataframe\">\n",
       "  <thead>\n",
       "    <tr style=\"text-align: right;\">\n",
       "      <th></th>\n",
       "      <th>HelpfulnessNumerator</th>\n",
       "      <th>HelpfulnessDenominator</th>\n",
       "      <th>Score</th>\n",
       "      <th>p_Summary_1</th>\n",
       "      <th>p_Summary_2</th>\n",
       "      <th>p_Summary_3</th>\n",
       "      <th>p_Summary_4</th>\n",
       "      <th>p_Summary_5</th>\n",
       "      <th>p_Text_1</th>\n",
       "      <th>p_Text_2</th>\n",
       "      <th>p_Text_3</th>\n",
       "      <th>p_Text_4</th>\n",
       "      <th>p_Text_5</th>\n",
       "    </tr>\n",
       "  </thead>\n",
       "  <tbody>\n",
       "    <tr>\n",
       "      <th>0</th>\n",
       "      <td>0.0</td>\n",
       "      <td>0.0</td>\n",
       "      <td>5.0</td>\n",
       "      <td>0.004008</td>\n",
       "      <td>0.018084</td>\n",
       "      <td>0.070328</td>\n",
       "      <td>0.214824</td>\n",
       "      <td>0.692756</td>\n",
       "      <td>0.002506</td>\n",
       "      <td>0.00485</td>\n",
       "      <td>0.016805</td>\n",
       "      <td>0.122925</td>\n",
       "      <td>0.852914</td>\n",
       "    </tr>\n",
       "  </tbody>\n",
       "</table>\n",
       "</div>"
      ],
      "text/plain": [
       "   HelpfulnessNumerator  HelpfulnessDenominator  Score  p_Summary_1  \\\n",
       "0                   0.0                     0.0    5.0     0.004008   \n",
       "\n",
       "   p_Summary_2  p_Summary_3  p_Summary_4  p_Summary_5  p_Text_1  p_Text_2  \\\n",
       "0     0.018084     0.070328     0.214824     0.692756  0.002506   0.00485   \n",
       "\n",
       "   p_Text_3  p_Text_4  p_Text_5  \n",
       "0  0.016805  0.122925  0.852914  "
      ]
     },
     "execution_count": 217,
     "metadata": {},
     "output_type": "execute_result"
    }
   ],
   "source": [
    "train_df.head(1)"
   ]
  },
  {
   "cell_type": "code",
   "execution_count": 223,
   "metadata": {},
   "outputs": [
    {
     "data": {
      "text/html": [
       "<div>\n",
       "<style scoped>\n",
       "    .dataframe tbody tr th:only-of-type {\n",
       "        vertical-align: middle;\n",
       "    }\n",
       "\n",
       "    .dataframe tbody tr th {\n",
       "        vertical-align: top;\n",
       "    }\n",
       "\n",
       "    .dataframe thead th {\n",
       "        text-align: right;\n",
       "    }\n",
       "</style>\n",
       "<table border=\"1\" class=\"dataframe\">\n",
       "  <thead>\n",
       "    <tr style=\"text-align: right;\">\n",
       "      <th></th>\n",
       "      <th>HelpfulnessNumerator</th>\n",
       "      <th>HelpfulnessDenominator</th>\n",
       "      <th>Score</th>\n",
       "      <th>p_Summary_1</th>\n",
       "      <th>p_Summary_2</th>\n",
       "      <th>p_Summary_3</th>\n",
       "      <th>p_Summary_4</th>\n",
       "      <th>p_Summary_5</th>\n",
       "      <th>p_Text_1</th>\n",
       "      <th>p_Text_2</th>\n",
       "      <th>p_Text_3</th>\n",
       "      <th>p_Text_4</th>\n",
       "      <th>p_Text_5</th>\n",
       "    </tr>\n",
       "  </thead>\n",
       "  <tbody>\n",
       "    <tr>\n",
       "      <th>0</th>\n",
       "      <td>0.000646</td>\n",
       "      <td>0.000641</td>\n",
       "      <td>3.0</td>\n",
       "      <td>0.083122</td>\n",
       "      <td>0.080659</td>\n",
       "      <td>0.132423</td>\n",
       "      <td>0.224176</td>\n",
       "      <td>0.479621</td>\n",
       "      <td>0.028225</td>\n",
       "      <td>0.043527</td>\n",
       "      <td>0.159619</td>\n",
       "      <td>0.234061</td>\n",
       "      <td>0.534566</td>\n",
       "    </tr>\n",
       "  </tbody>\n",
       "</table>\n",
       "</div>"
      ],
      "text/plain": [
       "   HelpfulnessNumerator  HelpfulnessDenominator  Score  p_Summary_1  \\\n",
       "0              0.000646                0.000641    3.0     0.083122   \n",
       "\n",
       "   p_Summary_2  p_Summary_3  p_Summary_4  p_Summary_5  p_Text_1  p_Text_2  \\\n",
       "0     0.080659     0.132423     0.224176     0.479621  0.028225  0.043527   \n",
       "\n",
       "   p_Text_3  p_Text_4  p_Text_5  \n",
       "0  0.159619  0.234061  0.534566  "
      ]
     },
     "execution_count": 223,
     "metadata": {},
     "output_type": "execute_result"
    }
   ],
   "source": [
    "test_df.head(1)"
   ]
  },
  {
   "cell_type": "code",
   "execution_count": 214,
   "metadata": {
    "scrolled": true
   },
   "outputs": [
    {
     "data": {
      "text/plain": [
       "(419238, 13)"
      ]
     },
     "execution_count": 214,
     "metadata": {},
     "output_type": "execute_result"
    }
   ],
   "source": [
    "test_df.shape"
   ]
  },
  {
   "cell_type": "code",
   "execution_count": 216,
   "metadata": {},
   "outputs": [],
   "source": [
    "model_nb = MultinomialNB()"
   ]
  },
  {
   "cell_type": "code",
   "execution_count": 220,
   "metadata": {},
   "outputs": [
    {
     "data": {
      "text/plain": [
       "MultinomialNB(alpha=1.0, class_prior=None, fit_prior=True)"
      ]
     },
     "execution_count": 220,
     "metadata": {},
     "output_type": "execute_result"
    }
   ],
   "source": [
    "model_nb.fit(train_df.drop('Score', axis=1), train_df['Score'])"
   ]
  },
  {
   "cell_type": "code",
   "execution_count": 224,
   "metadata": {},
   "outputs": [],
   "source": [
    "predictions_nb = model_nb.predict(test_df.drop('Score',axis = 1))"
   ]
  },
  {
   "cell_type": "code",
   "execution_count": 225,
   "metadata": {},
   "outputs": [
    {
     "data": {
      "text/plain": [
       "0.5334487808834123"
      ]
     },
     "execution_count": 225,
     "metadata": {},
     "output_type": "execute_result"
    }
   ],
   "source": [
    "accuracy_score(test_df['Score'], predictions_nb)"
   ]
  },
  {
   "cell_type": "code",
   "execution_count": 227,
   "metadata": {},
   "outputs": [],
   "source": [
    "## ADAboost\n",
    "model_ada = AdaBoostClassifier()"
   ]
  },
  {
   "cell_type": "code",
   "execution_count": 228,
   "metadata": {},
   "outputs": [
    {
     "data": {
      "text/plain": [
       "AdaBoostClassifier(algorithm='SAMME.R', base_estimator=None, learning_rate=1.0,\n",
       "                   n_estimators=50, random_state=None)"
      ]
     },
     "execution_count": 228,
     "metadata": {},
     "output_type": "execute_result"
    }
   ],
   "source": [
    "model_ada.fit(train_df.drop('Score', axis=1), train_df['Score'])"
   ]
  },
  {
   "cell_type": "code",
   "execution_count": 231,
   "metadata": {},
   "outputs": [],
   "source": [
    "predictions_ada = model_ada.predict(test_df.drop('Score',axis = 1))"
   ]
  },
  {
   "cell_type": "code",
   "execution_count": 232,
   "metadata": {},
   "outputs": [
    {
     "data": {
      "text/plain": [
       "0.5508684804335485"
      ]
     },
     "execution_count": 232,
     "metadata": {},
     "output_type": "execute_result"
    }
   ],
   "source": [
    "accuracy_score(test_df['Score'], predictions_ada)"
   ]
  },
  {
   "cell_type": "code",
   "execution_count": 233,
   "metadata": {},
   "outputs": [],
   "source": [
    "hyper =  {'n_estimators': [50, 100],'learning_rate' : [0.01,0.05,0.1,0.3,1]}"
   ]
  },
  {
   "cell_type": "code",
   "execution_count": 234,
   "metadata": {},
   "outputs": [],
   "source": [
    "model_gs = GridSearchCV(model_ada, param_grid=hyper, cv = 3, scoring= 'accuracy')"
   ]
  },
  {
   "cell_type": "code",
   "execution_count": 235,
   "metadata": {},
   "outputs": [
    {
     "data": {
      "text/plain": [
       "GridSearchCV(cv=3, error_score='raise-deprecating',\n",
       "             estimator=AdaBoostClassifier(algorithm='SAMME.R',\n",
       "                                          base_estimator=None,\n",
       "                                          learning_rate=1.0, n_estimators=50,\n",
       "                                          random_state=None),\n",
       "             iid='warn', n_jobs=None,\n",
       "             param_grid={'learning_rate': [0.01, 0.05, 0.1, 0.3, 1],\n",
       "                         'n_estimators': [50, 100]},\n",
       "             pre_dispatch='2*n_jobs', refit=True, return_train_score=False,\n",
       "             scoring='accuracy', verbose=0)"
      ]
     },
     "execution_count": 235,
     "metadata": {},
     "output_type": "execute_result"
    }
   ],
   "source": [
    "model_gs.fit(train_df.drop('Score', axis=1), train_df['Score'])"
   ]
  },
  {
   "cell_type": "code",
   "execution_count": 236,
   "metadata": {},
   "outputs": [
    {
     "data": {
      "text/plain": [
       "AdaBoostClassifier(algorithm='SAMME.R', base_estimator=None, learning_rate=1,\n",
       "                   n_estimators=100, random_state=None)"
      ]
     },
     "execution_count": 236,
     "metadata": {},
     "output_type": "execute_result"
    }
   ],
   "source": [
    "model_gs.best_estimator_"
   ]
  },
  {
   "cell_type": "code",
   "execution_count": 238,
   "metadata": {},
   "outputs": [
    {
     "data": {
      "text/plain": [
       "0.6153269755464756"
      ]
     },
     "execution_count": 238,
     "metadata": {},
     "output_type": "execute_result"
    }
   ],
   "source": [
    "model_gs.best_score_"
   ]
  },
  {
   "cell_type": "code",
   "execution_count": 237,
   "metadata": {},
   "outputs": [
    {
     "data": {
      "text/html": [
       "<div>\n",
       "<style scoped>\n",
       "    .dataframe tbody tr th:only-of-type {\n",
       "        vertical-align: middle;\n",
       "    }\n",
       "\n",
       "    .dataframe tbody tr th {\n",
       "        vertical-align: top;\n",
       "    }\n",
       "\n",
       "    .dataframe thead th {\n",
       "        text-align: right;\n",
       "    }\n",
       "</style>\n",
       "<table border=\"1\" class=\"dataframe\">\n",
       "  <thead>\n",
       "    <tr style=\"text-align: right;\">\n",
       "      <th></th>\n",
       "      <th>mean_fit_time</th>\n",
       "      <th>std_fit_time</th>\n",
       "      <th>mean_score_time</th>\n",
       "      <th>std_score_time</th>\n",
       "      <th>param_learning_rate</th>\n",
       "      <th>param_n_estimators</th>\n",
       "      <th>params</th>\n",
       "      <th>split0_test_score</th>\n",
       "      <th>split1_test_score</th>\n",
       "      <th>split2_test_score</th>\n",
       "      <th>mean_test_score</th>\n",
       "      <th>std_test_score</th>\n",
       "      <th>rank_test_score</th>\n",
       "    </tr>\n",
       "  </thead>\n",
       "  <tbody>\n",
       "    <tr>\n",
       "      <th>0</th>\n",
       "      <td>72.210898</td>\n",
       "      <td>0.336992</td>\n",
       "      <td>1.767452</td>\n",
       "      <td>0.032340</td>\n",
       "      <td>0.01</td>\n",
       "      <td>50</td>\n",
       "      <td>{'learning_rate': 0.01, 'n_estimators': 50}</td>\n",
       "      <td>0.534090</td>\n",
       "      <td>0.534093</td>\n",
       "      <td>0.534095</td>\n",
       "      <td>0.534093</td>\n",
       "      <td>0.000002</td>\n",
       "      <td>9</td>\n",
       "    </tr>\n",
       "    <tr>\n",
       "      <th>1</th>\n",
       "      <td>142.330389</td>\n",
       "      <td>1.686906</td>\n",
       "      <td>3.486975</td>\n",
       "      <td>0.076474</td>\n",
       "      <td>0.01</td>\n",
       "      <td>100</td>\n",
       "      <td>{'learning_rate': 0.01, 'n_estimators': 100}</td>\n",
       "      <td>0.534090</td>\n",
       "      <td>0.534093</td>\n",
       "      <td>0.534095</td>\n",
       "      <td>0.534093</td>\n",
       "      <td>0.000002</td>\n",
       "      <td>9</td>\n",
       "    </tr>\n",
       "    <tr>\n",
       "      <th>2</th>\n",
       "      <td>72.231627</td>\n",
       "      <td>0.514620</td>\n",
       "      <td>1.757180</td>\n",
       "      <td>0.011791</td>\n",
       "      <td>0.05</td>\n",
       "      <td>50</td>\n",
       "      <td>{'learning_rate': 0.05, 'n_estimators': 50}</td>\n",
       "      <td>0.550313</td>\n",
       "      <td>0.550602</td>\n",
       "      <td>0.551349</td>\n",
       "      <td>0.550755</td>\n",
       "      <td>0.000436</td>\n",
       "      <td>8</td>\n",
       "    </tr>\n",
       "    <tr>\n",
       "      <th>3</th>\n",
       "      <td>135.576350</td>\n",
       "      <td>2.645688</td>\n",
       "      <td>3.626596</td>\n",
       "      <td>0.105392</td>\n",
       "      <td>0.05</td>\n",
       "      <td>100</td>\n",
       "      <td>{'learning_rate': 0.05, 'n_estimators': 100}</td>\n",
       "      <td>0.576117</td>\n",
       "      <td>0.575688</td>\n",
       "      <td>0.575834</td>\n",
       "      <td>0.575880</td>\n",
       "      <td>0.000178</td>\n",
       "      <td>7</td>\n",
       "    </tr>\n",
       "    <tr>\n",
       "      <th>4</th>\n",
       "      <td>69.051101</td>\n",
       "      <td>0.921068</td>\n",
       "      <td>1.846062</td>\n",
       "      <td>0.058767</td>\n",
       "      <td>0.1</td>\n",
       "      <td>50</td>\n",
       "      <td>{'learning_rate': 0.1, 'n_estimators': 50}</td>\n",
       "      <td>0.577457</td>\n",
       "      <td>0.576271</td>\n",
       "      <td>0.580419</td>\n",
       "      <td>0.578049</td>\n",
       "      <td>0.001744</td>\n",
       "      <td>6</td>\n",
       "    </tr>\n",
       "    <tr>\n",
       "      <th>5</th>\n",
       "      <td>139.456295</td>\n",
       "      <td>1.571639</td>\n",
       "      <td>3.541262</td>\n",
       "      <td>0.155054</td>\n",
       "      <td>0.1</td>\n",
       "      <td>100</td>\n",
       "      <td>{'learning_rate': 0.1, 'n_estimators': 100}</td>\n",
       "      <td>0.603258</td>\n",
       "      <td>0.602676</td>\n",
       "      <td>0.602150</td>\n",
       "      <td>0.602695</td>\n",
       "      <td>0.000452</td>\n",
       "      <td>5</td>\n",
       "    </tr>\n",
       "    <tr>\n",
       "      <th>6</th>\n",
       "      <td>68.269967</td>\n",
       "      <td>1.872594</td>\n",
       "      <td>1.992060</td>\n",
       "      <td>0.021521</td>\n",
       "      <td>0.3</td>\n",
       "      <td>50</td>\n",
       "      <td>{'learning_rate': 0.3, 'n_estimators': 50}</td>\n",
       "      <td>0.607349</td>\n",
       "      <td>0.609264</td>\n",
       "      <td>0.606784</td>\n",
       "      <td>0.607799</td>\n",
       "      <td>0.001061</td>\n",
       "      <td>4</td>\n",
       "    </tr>\n",
       "    <tr>\n",
       "      <th>7</th>\n",
       "      <td>136.824897</td>\n",
       "      <td>2.020004</td>\n",
       "      <td>3.448603</td>\n",
       "      <td>0.028958</td>\n",
       "      <td>0.3</td>\n",
       "      <td>100</td>\n",
       "      <td>{'learning_rate': 0.3, 'n_estimators': 100}</td>\n",
       "      <td>0.612790</td>\n",
       "      <td>0.613695</td>\n",
       "      <td>0.611059</td>\n",
       "      <td>0.612515</td>\n",
       "      <td>0.001093</td>\n",
       "      <td>2</td>\n",
       "    </tr>\n",
       "    <tr>\n",
       "      <th>8</th>\n",
       "      <td>70.203230</td>\n",
       "      <td>2.718723</td>\n",
       "      <td>1.773666</td>\n",
       "      <td>0.027519</td>\n",
       "      <td>1</td>\n",
       "      <td>50</td>\n",
       "      <td>{'learning_rate': 1, 'n_estimators': 50}</td>\n",
       "      <td>0.610692</td>\n",
       "      <td>0.612064</td>\n",
       "      <td>0.609572</td>\n",
       "      <td>0.610776</td>\n",
       "      <td>0.001019</td>\n",
       "      <td>3</td>\n",
       "    </tr>\n",
       "    <tr>\n",
       "      <th>9</th>\n",
       "      <td>138.215528</td>\n",
       "      <td>0.975401</td>\n",
       "      <td>3.539376</td>\n",
       "      <td>0.083573</td>\n",
       "      <td>1</td>\n",
       "      <td>100</td>\n",
       "      <td>{'learning_rate': 1, 'n_estimators': 100}</td>\n",
       "      <td>0.615525</td>\n",
       "      <td>0.615830</td>\n",
       "      <td>0.614626</td>\n",
       "      <td>0.615327</td>\n",
       "      <td>0.000511</td>\n",
       "      <td>1</td>\n",
       "    </tr>\n",
       "  </tbody>\n",
       "</table>\n",
       "</div>"
      ],
      "text/plain": [
       "   mean_fit_time  std_fit_time  mean_score_time  std_score_time  \\\n",
       "0      72.210898      0.336992         1.767452        0.032340   \n",
       "1     142.330389      1.686906         3.486975        0.076474   \n",
       "2      72.231627      0.514620         1.757180        0.011791   \n",
       "3     135.576350      2.645688         3.626596        0.105392   \n",
       "4      69.051101      0.921068         1.846062        0.058767   \n",
       "5     139.456295      1.571639         3.541262        0.155054   \n",
       "6      68.269967      1.872594         1.992060        0.021521   \n",
       "7     136.824897      2.020004         3.448603        0.028958   \n",
       "8      70.203230      2.718723         1.773666        0.027519   \n",
       "9     138.215528      0.975401         3.539376        0.083573   \n",
       "\n",
       "  param_learning_rate param_n_estimators  \\\n",
       "0                0.01                 50   \n",
       "1                0.01                100   \n",
       "2                0.05                 50   \n",
       "3                0.05                100   \n",
       "4                 0.1                 50   \n",
       "5                 0.1                100   \n",
       "6                 0.3                 50   \n",
       "7                 0.3                100   \n",
       "8                   1                 50   \n",
       "9                   1                100   \n",
       "\n",
       "                                         params  split0_test_score  \\\n",
       "0   {'learning_rate': 0.01, 'n_estimators': 50}           0.534090   \n",
       "1  {'learning_rate': 0.01, 'n_estimators': 100}           0.534090   \n",
       "2   {'learning_rate': 0.05, 'n_estimators': 50}           0.550313   \n",
       "3  {'learning_rate': 0.05, 'n_estimators': 100}           0.576117   \n",
       "4    {'learning_rate': 0.1, 'n_estimators': 50}           0.577457   \n",
       "5   {'learning_rate': 0.1, 'n_estimators': 100}           0.603258   \n",
       "6    {'learning_rate': 0.3, 'n_estimators': 50}           0.607349   \n",
       "7   {'learning_rate': 0.3, 'n_estimators': 100}           0.612790   \n",
       "8      {'learning_rate': 1, 'n_estimators': 50}           0.610692   \n",
       "9     {'learning_rate': 1, 'n_estimators': 100}           0.615525   \n",
       "\n",
       "   split1_test_score  split2_test_score  mean_test_score  std_test_score  \\\n",
       "0           0.534093           0.534095         0.534093        0.000002   \n",
       "1           0.534093           0.534095         0.534093        0.000002   \n",
       "2           0.550602           0.551349         0.550755        0.000436   \n",
       "3           0.575688           0.575834         0.575880        0.000178   \n",
       "4           0.576271           0.580419         0.578049        0.001744   \n",
       "5           0.602676           0.602150         0.602695        0.000452   \n",
       "6           0.609264           0.606784         0.607799        0.001061   \n",
       "7           0.613695           0.611059         0.612515        0.001093   \n",
       "8           0.612064           0.609572         0.610776        0.001019   \n",
       "9           0.615830           0.614626         0.615327        0.000511   \n",
       "\n",
       "   rank_test_score  \n",
       "0                9  \n",
       "1                9  \n",
       "2                8  \n",
       "3                7  \n",
       "4                6  \n",
       "5                5  \n",
       "6                4  \n",
       "7                2  \n",
       "8                3  \n",
       "9                1  "
      ]
     },
     "execution_count": 237,
     "metadata": {},
     "output_type": "execute_result"
    }
   ],
   "source": [
    "pd.DataFrame(model_gs.cv_results_)"
   ]
  },
  {
   "cell_type": "code",
   "execution_count": 241,
   "metadata": {},
   "outputs": [],
   "source": [
    "hyper2 =  {'n_estimators': [100, 150],'learning_rate' : [1, 1.5, 2]}"
   ]
  },
  {
   "cell_type": "code",
   "execution_count": 242,
   "metadata": {},
   "outputs": [],
   "source": [
    "model_gs2 = GridSearchCV(model_ada, param_grid=hyper2, cv = 3, scoring= 'accuracy')"
   ]
  },
  {
   "cell_type": "code",
   "execution_count": 243,
   "metadata": {},
   "outputs": [
    {
     "name": "stdout",
     "output_type": "stream",
     "text": [
      "CPU times: user 1h 23min 51s, sys: 1min 37s, total: 1h 25min 28s\n",
      "Wall time: 57min 17s\n"
     ]
    },
    {
     "data": {
      "text/plain": [
       "GridSearchCV(cv=3, error_score='raise-deprecating',\n",
       "             estimator=AdaBoostClassifier(algorithm='SAMME.R',\n",
       "                                          base_estimator=None,\n",
       "                                          learning_rate=1.0, n_estimators=50,\n",
       "                                          random_state=None),\n",
       "             iid='warn', n_jobs=None,\n",
       "             param_grid={'learning_rate': [1, 1.5, 2],\n",
       "                         'n_estimators': [100, 150]},\n",
       "             pre_dispatch='2*n_jobs', refit=True, return_train_score=False,\n",
       "             scoring='accuracy', verbose=0)"
      ]
     },
     "execution_count": 243,
     "metadata": {},
     "output_type": "execute_result"
    }
   ],
   "source": [
    "%%time\n",
    "model_gs2.fit(train_df.drop('Score', axis=1), train_df['Score'])"
   ]
  },
  {
   "cell_type": "code",
   "execution_count": 244,
   "metadata": {},
   "outputs": [
    {
     "data": {
      "text/html": [
       "<div>\n",
       "<style scoped>\n",
       "    .dataframe tbody tr th:only-of-type {\n",
       "        vertical-align: middle;\n",
       "    }\n",
       "\n",
       "    .dataframe tbody tr th {\n",
       "        vertical-align: top;\n",
       "    }\n",
       "\n",
       "    .dataframe thead th {\n",
       "        text-align: right;\n",
       "    }\n",
       "</style>\n",
       "<table border=\"1\" class=\"dataframe\">\n",
       "  <thead>\n",
       "    <tr style=\"text-align: right;\">\n",
       "      <th></th>\n",
       "      <th>mean_fit_time</th>\n",
       "      <th>std_fit_time</th>\n",
       "      <th>mean_score_time</th>\n",
       "      <th>std_score_time</th>\n",
       "      <th>param_learning_rate</th>\n",
       "      <th>param_n_estimators</th>\n",
       "      <th>params</th>\n",
       "      <th>split0_test_score</th>\n",
       "      <th>split1_test_score</th>\n",
       "      <th>split2_test_score</th>\n",
       "      <th>mean_test_score</th>\n",
       "      <th>std_test_score</th>\n",
       "      <th>rank_test_score</th>\n",
       "    </tr>\n",
       "  </thead>\n",
       "  <tbody>\n",
       "    <tr>\n",
       "      <th>0</th>\n",
       "      <td>130.637822</td>\n",
       "      <td>1.379437</td>\n",
       "      <td>3.857869</td>\n",
       "      <td>0.018148</td>\n",
       "      <td>1</td>\n",
       "      <td>100</td>\n",
       "      <td>{'learning_rate': 1, 'n_estimators': 100}</td>\n",
       "      <td>0.615525</td>\n",
       "      <td>0.615830</td>\n",
       "      <td>0.614626</td>\n",
       "      <td>0.615327</td>\n",
       "      <td>0.000511</td>\n",
       "      <td>3</td>\n",
       "    </tr>\n",
       "    <tr>\n",
       "      <th>1</th>\n",
       "      <td>201.376422</td>\n",
       "      <td>5.802723</td>\n",
       "      <td>6.169917</td>\n",
       "      <td>0.328860</td>\n",
       "      <td>1</td>\n",
       "      <td>150</td>\n",
       "      <td>{'learning_rate': 1, 'n_estimators': 150}</td>\n",
       "      <td>0.616795</td>\n",
       "      <td>0.617354</td>\n",
       "      <td>0.616129</td>\n",
       "      <td>0.616759</td>\n",
       "      <td>0.000501</td>\n",
       "      <td>1</td>\n",
       "    </tr>\n",
       "    <tr>\n",
       "      <th>2</th>\n",
       "      <td>133.985420</td>\n",
       "      <td>2.545582</td>\n",
       "      <td>3.876928</td>\n",
       "      <td>0.098934</td>\n",
       "      <td>1.5</td>\n",
       "      <td>100</td>\n",
       "      <td>{'learning_rate': 1.5, 'n_estimators': 100}</td>\n",
       "      <td>0.614709</td>\n",
       "      <td>0.614928</td>\n",
       "      <td>0.612525</td>\n",
       "      <td>0.614054</td>\n",
       "      <td>0.001085</td>\n",
       "      <td>4</td>\n",
       "    </tr>\n",
       "    <tr>\n",
       "      <th>3</th>\n",
       "      <td>196.042651</td>\n",
       "      <td>2.295280</td>\n",
       "      <td>5.605462</td>\n",
       "      <td>0.123512</td>\n",
       "      <td>1.5</td>\n",
       "      <td>150</td>\n",
       "      <td>{'learning_rate': 1.5, 'n_estimators': 150}</td>\n",
       "      <td>0.616826</td>\n",
       "      <td>0.617627</td>\n",
       "      <td>0.614642</td>\n",
       "      <td>0.616365</td>\n",
       "      <td>0.001262</td>\n",
       "      <td>2</td>\n",
       "    </tr>\n",
       "    <tr>\n",
       "      <th>4</th>\n",
       "      <td>131.213131</td>\n",
       "      <td>1.826281</td>\n",
       "      <td>3.784638</td>\n",
       "      <td>0.002712</td>\n",
       "      <td>2</td>\n",
       "      <td>100</td>\n",
       "      <td>{'learning_rate': 2, 'n_estimators': 100}</td>\n",
       "      <td>0.424662</td>\n",
       "      <td>0.397787</td>\n",
       "      <td>0.401241</td>\n",
       "      <td>0.407897</td>\n",
       "      <td>0.011938</td>\n",
       "      <td>5</td>\n",
       "    </tr>\n",
       "    <tr>\n",
       "      <th>5</th>\n",
       "      <td>203.764175</td>\n",
       "      <td>4.972128</td>\n",
       "      <td>5.486059</td>\n",
       "      <td>0.161598</td>\n",
       "      <td>2</td>\n",
       "      <td>150</td>\n",
       "      <td>{'learning_rate': 2, 'n_estimators': 150}</td>\n",
       "      <td>0.423702</td>\n",
       "      <td>0.397787</td>\n",
       "      <td>0.399174</td>\n",
       "      <td>0.406888</td>\n",
       "      <td>0.011903</td>\n",
       "      <td>6</td>\n",
       "    </tr>\n",
       "  </tbody>\n",
       "</table>\n",
       "</div>"
      ],
      "text/plain": [
       "   mean_fit_time  std_fit_time  mean_score_time  std_score_time  \\\n",
       "0     130.637822      1.379437         3.857869        0.018148   \n",
       "1     201.376422      5.802723         6.169917        0.328860   \n",
       "2     133.985420      2.545582         3.876928        0.098934   \n",
       "3     196.042651      2.295280         5.605462        0.123512   \n",
       "4     131.213131      1.826281         3.784638        0.002712   \n",
       "5     203.764175      4.972128         5.486059        0.161598   \n",
       "\n",
       "  param_learning_rate param_n_estimators  \\\n",
       "0                   1                100   \n",
       "1                   1                150   \n",
       "2                 1.5                100   \n",
       "3                 1.5                150   \n",
       "4                   2                100   \n",
       "5                   2                150   \n",
       "\n",
       "                                        params  split0_test_score  \\\n",
       "0    {'learning_rate': 1, 'n_estimators': 100}           0.615525   \n",
       "1    {'learning_rate': 1, 'n_estimators': 150}           0.616795   \n",
       "2  {'learning_rate': 1.5, 'n_estimators': 100}           0.614709   \n",
       "3  {'learning_rate': 1.5, 'n_estimators': 150}           0.616826   \n",
       "4    {'learning_rate': 2, 'n_estimators': 100}           0.424662   \n",
       "5    {'learning_rate': 2, 'n_estimators': 150}           0.423702   \n",
       "\n",
       "   split1_test_score  split2_test_score  mean_test_score  std_test_score  \\\n",
       "0           0.615830           0.614626         0.615327        0.000511   \n",
       "1           0.617354           0.616129         0.616759        0.000501   \n",
       "2           0.614928           0.612525         0.614054        0.001085   \n",
       "3           0.617627           0.614642         0.616365        0.001262   \n",
       "4           0.397787           0.401241         0.407897        0.011938   \n",
       "5           0.397787           0.399174         0.406888        0.011903   \n",
       "\n",
       "   rank_test_score  \n",
       "0                3  \n",
       "1                1  \n",
       "2                4  \n",
       "3                2  \n",
       "4                5  \n",
       "5                6  "
      ]
     },
     "execution_count": 244,
     "metadata": {},
     "output_type": "execute_result"
    }
   ],
   "source": [
    "pd.DataFrame(model_gs2.cv_results_)"
   ]
  },
  {
   "cell_type": "code",
   "execution_count": null,
   "metadata": {},
   "outputs": [],
   "source": []
  }
 ],
 "metadata": {
  "kernelspec": {
   "display_name": "Python 3",
   "language": "python",
   "name": "python3"
  },
  "language_info": {
   "codemirror_mode": {
    "name": "ipython",
    "version": 3
   },
   "file_extension": ".py",
   "mimetype": "text/x-python",
   "name": "python",
   "nbconvert_exporter": "python",
   "pygments_lexer": "ipython3",
   "version": "3.7.3"
  }
 },
 "nbformat": 4,
 "nbformat_minor": 2
}
